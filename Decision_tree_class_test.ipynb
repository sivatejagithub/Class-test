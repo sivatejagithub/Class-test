{
 "cells": [
  {
   "cell_type": "code",
   "execution_count": 7,
   "metadata": {},
   "outputs": [
    {
     "name": "stdout",
     "output_type": "stream",
     "text": [
      "E:\\Python\\Data Files\\Data\n"
     ]
    }
   ],
   "source": [
    "%cd \"E:\\Python\\Data Files\\Data\""
   ]
  },
  {
   "cell_type": "code",
   "execution_count": 12,
   "metadata": {},
   "outputs": [],
   "source": [
    "import pandas as pd\n",
    "import math\n",
    "from sklearn.model_selection import train_test_split\n",
    "from sklearn import tree\n",
    "import numpy as np\n",
    "from sklearn.model_selection import KFold\n",
    "import matplotlib.pyplot as plt\n",
    "\n",
    "%matplotlib inline\n",
    "\n"
   ]
  },
  {
   "cell_type": "code",
   "execution_count": null,
   "metadata": {},
   "outputs": [],
   "source": [
    "bd=pd.read_csv('Existing Base.csv')"
   ]
  },
  {
   "cell_type": "code",
   "execution_count": 5,
   "metadata": {},
   "outputs": [
    {
     "data": {
      "text/plain": [
       "Index(['REF_NO', 'children', 'age_band', 'status', 'occupation',\n",
       "       'occupation_partner', 'home_status', 'family_income', 'self_employed',\n",
       "       'self_employed_partner', 'year_last_moved', 'TVarea', 'post_code',\n",
       "       'post_area', 'Average Credit Card Transaction', 'Balance Transfer',\n",
       "       'Term Deposit', 'Life Insurance', 'Medical Insurance',\n",
       "       'Average A/C Balance', 'Personal Loan', 'Investment in Mutual Fund',\n",
       "       'Investment Tax Saving Bond', 'Home Loan', 'Online Purchase Amount',\n",
       "       'Revenue Grid', 'gender', 'region', 'Investment in Commudity',\n",
       "       'Investment in Equity', 'Investment in Derivative',\n",
       "       'Portfolio Balance'],\n",
       "      dtype='object')"
      ]
     },
     "execution_count": 5,
     "metadata": {},
     "output_type": "execute_result"
    }
   ],
   "source": [
    "bd.columns"
   ]
  },
  {
   "cell_type": "code",
   "execution_count": 9,
   "metadata": {},
   "outputs": [
    {
     "name": "stdout",
     "output_type": "stream",
     "text": [
      "<class 'pandas.core.frame.DataFrame'>\n",
      "RangeIndex: 10155 entries, 0 to 10154\n",
      "Data columns (total 32 columns):\n",
      " #   Column                           Non-Null Count  Dtype  \n",
      "---  ------                           --------------  -----  \n",
      " 0   REF_NO                           10155 non-null  int64  \n",
      " 1   children                         10155 non-null  object \n",
      " 2   age_band                         10155 non-null  object \n",
      " 3   status                           10155 non-null  object \n",
      " 4   occupation                       10155 non-null  object \n",
      " 5   occupation_partner               10155 non-null  object \n",
      " 6   home_status                      10155 non-null  object \n",
      " 7   family_income                    10155 non-null  object \n",
      " 8   self_employed                    10155 non-null  object \n",
      " 9   self_employed_partner            10155 non-null  object \n",
      " 10  year_last_moved                  10155 non-null  int64  \n",
      " 11  TVarea                           10155 non-null  object \n",
      " 12  post_code                        10155 non-null  object \n",
      " 13  post_area                        10155 non-null  object \n",
      " 14  Average Credit Card Transaction  10155 non-null  float64\n",
      " 15  Balance Transfer                 10155 non-null  float64\n",
      " 16  Term Deposit                     10155 non-null  float64\n",
      " 17  Life Insurance                   10155 non-null  float64\n",
      " 18  Medical Insurance                10155 non-null  float64\n",
      " 19  Average A/C Balance              10155 non-null  float64\n",
      " 20  Personal Loan                    10155 non-null  float64\n",
      " 21  Investment in Mutual Fund        10155 non-null  float64\n",
      " 22  Investment Tax Saving Bond       10155 non-null  float64\n",
      " 23  Home Loan                        10155 non-null  float64\n",
      " 24  Online Purchase Amount           10155 non-null  float64\n",
      " 25  Revenue Grid                     10155 non-null  int64  \n",
      " 26  gender                           10155 non-null  object \n",
      " 27  region                           10155 non-null  object \n",
      " 28  Investment in Commudity          10155 non-null  float64\n",
      " 29  Investment in Equity             10155 non-null  float64\n",
      " 30  Investment in Derivative         10155 non-null  float64\n",
      " 31  Portfolio Balance                10155 non-null  float64\n",
      "dtypes: float64(15), int64(3), object(14)\n",
      "memory usage: 2.5+ MB\n"
     ]
    }
   ],
   "source": [
    "bd.info()"
   ]
  },
  {
   "cell_type": "code",
   "execution_count": 10,
   "metadata": {},
   "outputs": [],
   "source": [
    "# data prep from previous module\n",
    "bd.loc[bd[\"children\"]==\"Zero\",\"children\"]=\"0\"\n",
    "bd.loc[bd[\"children\"]==\"4+\",\"children\"]=\"4\"\n",
    "bd[\"children\"]=pd.to_numeric(bd[\"children\"],errors=\"coerce\")\n",
    "bd[\"y\"]=1\n",
    "bd.loc[bd[\"Revenue Grid\"]==2,\"y\"]=0\n",
    "bd=bd.drop([\"Revenue Grid\"],1)\n",
    "for i in range(len(bd)):\n",
    "    if bd[\"age_band\"][i] in [\"71+\",\"65-70\",\"51-55\",\"45-50\"]:\n",
    "        bd.loc[i,\"age_band\"]=\"ab_10\"\n",
    "    if bd[\"age_band\"][i] in [\"55-60\",\"41-45\",\"31-35\",\"22-25\",\"26-30\"]:\n",
    "        bd.loc[i,\"age_band\"]=\"ab_11\"\n",
    "    if bd[\"age_band\"][i]==\"36-40\":\n",
    "        bd.loc[i,\"age_band\"]=\"ab_13\"\n",
    "    if bd[\"age_band\"][i]==\"18-21\":\n",
    "        bd.loc[i,\"age_band\"]=\"ab_17\"\n",
    "    if bd[\"age_band\"][i]==\"61-65\":\n",
    "        bd.loc[i,\"age_band\"]=\"ab_9\"\n",
    "ab_dummies=pd.get_dummies(bd[\"age_band\"])\n",
    "bd=pd.concat([bd,ab_dummies],1)\n",
    "bd=bd.drop([\"age_band\",\"Unknown\"],1)\n",
    "bd[\"st_partner\"]=0\n",
    "bd[\"st_singleNm\"]=0\n",
    "bd[\"st_divSep\"]=0\n",
    "bd.loc[bd[\"status\"]==\"Partner\",\"st_partner\"]=1\n",
    "bd.loc[bd[\"status\"]==\"Single/Never Married\",\"st_singleNm\"]=1\n",
    "bd.loc[bd[\"status\"]==\"Divorced/Separated\",\"st_divSep\"]=1\n",
    "bd=bd.drop([\"status\"],1)\n",
    "for i in range(len(bd)):\n",
    "    if bd[\"occupation\"][i] in [\"Unknown\",\"Student\",\"Secretarial/Admin\",\n",
    "                               \"Other\",\"Manual Worker\"]:\n",
    "        bd.loc[i,\"occupation\"]=\"oc_11\"\n",
    "    if bd[\"occupation\"][i] in [\"Professional\",\"Business Manager\"]:\n",
    "        bd.loc[i,\"occupation\"]=\"oc_12\"\n",
    "    if bd[\"occupation\"][i]==\"Retired\":\n",
    "        bd.loc[i,\"occupation\"]=\"oc_10\"\n",
    "oc_dummies=pd.get_dummies(bd[\"occupation\"])\n",
    "bd=pd.concat([bd,oc_dummies],1)\n",
    "\n",
    "bd=bd.drop([\"occupation\",\"Housewife\"],1)\n",
    "bd[\"ocp_10\"]=0\n",
    "bd[\"ocp_12\"]=0\n",
    "\n",
    "for i in range(len(bd)):\n",
    "    if bd[\"occupation_partner\"][i] in [\"Unknown\",\"Retired\",\"Other\"]:\n",
    "        bd.loc[i,\"ocp_10\"]=1\n",
    "    if bd[\"occupation_partner\"][i] in [\"Student\",\"Secretarial/Admin\"]:\n",
    "        bd.loc[i,\"ocp_12\"]=1\n",
    "bd=bd.drop([\"occupation_partner\",\"TVarea\",\"post_code\",\"post_area\",\"region\"],1)\n",
    "bd[\"hs_own\"]=0\n",
    "bd.loc[bd[\"home_status\"]==\"Own Home\",\"hs_own\"]=1\n",
    "del bd[\"home_status\"]\n",
    "bd[\"gender_f\"]=0\n",
    "bd.loc[bd[\"gender\"]==\"Female\",\"gender_f\"]=1\n",
    "del bd[\"gender\"]\n",
    "bd[\"semp_yes\"]=0\n",
    "bd.loc[bd[\"self_employed\"]==\"Yes\",\"semp_yes\"]=1\n",
    "del bd[\"self_employed\"]\n",
    "bd[\"semp_part_yes\"]=0\n",
    "bd.loc[bd[\"self_employed_partner\"]==\"Yes\",\"semp_part_yes\"]=1\n",
    "del bd[\"self_employed_partner\"]\n",
    "bd[\"fi\"]=4\n",
    "bd.loc[bd[\"family_income\"]==\"< 8,000, >= 4,000\",\"fi\"]=6\n",
    "bd.loc[bd[\"family_income\"]==\"<10,000, >= 8,000\",\"fi\"]=9\n",
    "bd.loc[bd[\"family_income\"]==\"<12,500, >=10,000\",\"fi\"]=11.25\n",
    "bd.loc[bd[\"family_income\"]==\"<15,000, >=12,500\",\"fi\"]=13.75\n",
    "bd.loc[bd[\"family_income\"]==\"<17,500, >=15,000\",\"fi\"]=16.25\n",
    "bd.loc[bd[\"family_income\"]==\"<20,000, >=17,500\",\"fi\"]=18.75\n",
    "bd.loc[bd[\"family_income\"]==\"<22,500, >=20,000\",\"fi\"]=21.25\n",
    "bd.loc[bd[\"family_income\"]==\"<25,000, >=22,500\",\"fi\"]=23.75\n",
    "bd.loc[bd[\"family_income\"]==\"<27,500, >=25,000\",\"fi\"]=26.25\n",
    "bd.loc[bd[\"family_income\"]==\"<30,000, >=27,500\",\"fi\"]=28.75\n",
    "bd.loc[bd[\"family_income\"]==\">=35,000\",\"fi\"]=35\n",
    "bd=bd.drop([\"family_income\"],1)"
   ]
  },
  {
   "cell_type": "code",
   "execution_count": 11,
   "metadata": {},
   "outputs": [
    {
     "name": "stdout",
     "output_type": "stream",
     "text": [
      "<class 'pandas.core.frame.DataFrame'>\n",
      "RangeIndex: 10155 entries, 0 to 10154\n",
      "Data columns (total 37 columns):\n",
      " #   Column                           Non-Null Count  Dtype  \n",
      "---  ------                           --------------  -----  \n",
      " 0   REF_NO                           10155 non-null  int64  \n",
      " 1   children                         10155 non-null  int64  \n",
      " 2   year_last_moved                  10155 non-null  int64  \n",
      " 3   Average Credit Card Transaction  10155 non-null  float64\n",
      " 4   Balance Transfer                 10155 non-null  float64\n",
      " 5   Term Deposit                     10155 non-null  float64\n",
      " 6   Life Insurance                   10155 non-null  float64\n",
      " 7   Medical Insurance                10155 non-null  float64\n",
      " 8   Average A/C Balance              10155 non-null  float64\n",
      " 9   Personal Loan                    10155 non-null  float64\n",
      " 10  Investment in Mutual Fund        10155 non-null  float64\n",
      " 11  Investment Tax Saving Bond       10155 non-null  float64\n",
      " 12  Home Loan                        10155 non-null  float64\n",
      " 13  Online Purchase Amount           10155 non-null  float64\n",
      " 14  Investment in Commudity          10155 non-null  float64\n",
      " 15  Investment in Equity             10155 non-null  float64\n",
      " 16  Investment in Derivative         10155 non-null  float64\n",
      " 17  Portfolio Balance                10155 non-null  float64\n",
      " 18  y                                10155 non-null  int64  \n",
      " 19  ab_10                            10155 non-null  uint8  \n",
      " 20  ab_11                            10155 non-null  uint8  \n",
      " 21  ab_13                            10155 non-null  uint8  \n",
      " 22  ab_17                            10155 non-null  uint8  \n",
      " 23  ab_9                             10155 non-null  uint8  \n",
      " 24  st_partner                       10155 non-null  int64  \n",
      " 25  st_singleNm                      10155 non-null  int64  \n",
      " 26  st_divSep                        10155 non-null  int64  \n",
      " 27  oc_10                            10155 non-null  uint8  \n",
      " 28  oc_11                            10155 non-null  uint8  \n",
      " 29  oc_12                            10155 non-null  uint8  \n",
      " 30  ocp_10                           10155 non-null  int64  \n",
      " 31  ocp_12                           10155 non-null  int64  \n",
      " 32  hs_own                           10155 non-null  int64  \n",
      " 33  gender_f                         10155 non-null  int64  \n",
      " 34  semp_yes                         10155 non-null  int64  \n",
      " 35  semp_part_yes                    10155 non-null  int64  \n",
      " 36  fi                               10155 non-null  float64\n",
      "dtypes: float64(16), int64(13), uint8(8)\n",
      "memory usage: 2.3 MB\n"
     ]
    }
   ],
   "source": [
    "bd.info()"
   ]
  },
  {
   "cell_type": "code",
   "execution_count": 15,
   "metadata": {},
   "outputs": [],
   "source": [
    "bd.dropna(axis=0,inplace=True)\n",
    "bd_train, bd_test = train_test_split(bd, test_size = 0.2,random_state=2)\n",
    "x_train=bd_train.drop([\"y\",\"REF_NO\"],1)\n",
    "y_train=bd_train[\"y\"]\n",
    "x_test=bd_test.drop([\"y\",\"REF_NO\"],1)\n",
    "y_test=bd_test[\"y\"]\n",
    "x_train.reset_index(drop=True,inplace=True)\n",
    "y_train.reset_index(drop=True,inplace=True)"
   ]
  },
  {
   "cell_type": "code",
   "execution_count": 16,
   "metadata": {},
   "outputs": [],
   "source": [
    "dtree=tree.DecisionTreeClassifier(criterion=\"entropy\",max_depth=2,\n",
    "                                  class_weight=\"balanced\")"
   ]
  },
  {
   "cell_type": "code",
   "execution_count": 17,
   "metadata": {},
   "outputs": [
    {
     "data": {
      "text/plain": [
       "DecisionTreeClassifier(ccp_alpha=0.0, class_weight='balanced',\n",
       "                       criterion='entropy', max_depth=2, max_features=None,\n",
       "                       max_leaf_nodes=None, min_impurity_decrease=0.0,\n",
       "                       min_impurity_split=None, min_samples_leaf=1,\n",
       "                       min_samples_split=2, min_weight_fraction_leaf=0.0,\n",
       "                       presort='deprecated', random_state=None,\n",
       "                       splitter='best')"
      ]
     },
     "execution_count": 17,
     "metadata": {},
     "output_type": "execute_result"
    }
   ],
   "source": [
    "dtree.fit(x_train,y_train)"
   ]
  },
  {
   "cell_type": "code",
   "execution_count": 18,
   "metadata": {},
   "outputs": [],
   "source": [
    "predicted=dtree.predict(x_test)\n",
    "\n",
    "df_test=pd.DataFrame(list(zip(y_test,predicted)),columns=[\"real\",\"predicted\"])\n",
    "\n",
    "k=pd.crosstab(df_test['real'],df_test[\"predicted\"])"
   ]
  },
  {
   "cell_type": "code",
   "execution_count": 19,
   "metadata": {},
   "outputs": [
    {
     "name": "stdout",
     "output_type": "stream",
     "text": [
      "Accuracy is : 0.6986706056129985\n",
      "Sensitivity is : 0.8883928571428571\n",
      "Specificity is : 0.6751521859435529\n"
     ]
    }
   ],
   "source": [
    "TP=k.iloc[1,1]\n",
    "TN=k.iloc[0,0]\n",
    "FP=k.iloc[0,1]\n",
    "FN=k.iloc[1,0]\n",
    "P=TP+FN\n",
    "N=TN+FP\n",
    "\n",
    "\n",
    "print('Accuracy is :',(TP+TN)/(P+N))\n",
    "print('Sensitivity is :',TP/P)\n",
    "print('Specificity is :',TN/N)"
   ]
  },
  {
   "cell_type": "code",
   "execution_count": 20,
   "metadata": {},
   "outputs": [],
   "source": [
    "from sklearn.model_selection import RandomizedSearchCV,GridSearchCV\n"
   ]
  },
  {
   "cell_type": "code",
   "execution_count": 21,
   "metadata": {},
   "outputs": [
    {
     "data": {
      "text/plain": [
       "GridSearchCV(cv=10, error_score=nan,\n",
       "             estimator=DecisionTreeClassifier(ccp_alpha=0.0,\n",
       "                                              class_weight='balanced',\n",
       "                                              criterion='gini', max_depth=None,\n",
       "                                              max_features=None,\n",
       "                                              max_leaf_nodes=None,\n",
       "                                              min_impurity_decrease=0.0,\n",
       "                                              min_impurity_split=None,\n",
       "                                              min_samples_leaf=1,\n",
       "                                              min_samples_split=2,\n",
       "                                              min_weight_fraction_leaf=0.0,\n",
       "                                              presort='deprecated',\n",
       "                                              random_state=None,\n",
       "                                              splitter='best'),\n",
       "             iid='deprecated', n_jobs=None,\n",
       "             param_grid={'criterion': ['gini', 'entropy'],\n",
       "                         'max_depth': [3, 5, None], 'min_samples_leaf': [5, 6],\n",
       "                         'min_samples_split': [5, 6]},\n",
       "             pre_dispatch='2*n_jobs', refit=True, return_train_score=False,\n",
       "             scoring=None, verbose=0)"
      ]
     },
     "execution_count": 21,
     "metadata": {},
     "output_type": "execute_result"
    }
   ],
   "source": [
    "param_dist = {\"max_depth\": [3,5, None],\n",
    "              \"min_samples_split\": list(range(5, 7)),\n",
    "              \"min_samples_leaf\": list(range(5, 7)),\n",
    "              \"criterion\": [\"gini\", \"entropy\"]}\n",
    "\n",
    "clf=tree.DecisionTreeClassifier(class_weight=\"balanced\")\n",
    "\n",
    "Grid_search = GridSearchCV(clf, param_grid=param_dist,cv=10)\n",
    "Grid_search.fit(x_train, y_train)\n"
   ]
  },
  {
   "cell_type": "code",
   "execution_count": 22,
   "metadata": {},
   "outputs": [],
   "source": [
    "df=pd.DataFrame(list(zip(list(Grid_search.cv_results_['params']),\n",
    "                         list(Grid_search.cv_results_['std_test_score']), \n",
    "                         list(Grid_search.cv_results_['mean_test_score']))),\n",
    "                columns=['combi','sd','avg'])"
   ]
  },
  {
   "cell_type": "code",
   "execution_count": null,
   "metadata": {},
   "outputs": [],
   "source": [
    "df"
   ]
  },
  {
   "cell_type": "code",
   "execution_count": 23,
   "metadata": {},
   "outputs": [
    {
     "data": {
      "text/html": [
       "<div>\n",
       "<style scoped>\n",
       "    .dataframe tbody tr th:only-of-type {\n",
       "        vertical-align: middle;\n",
       "    }\n",
       "\n",
       "    .dataframe tbody tr th {\n",
       "        vertical-align: top;\n",
       "    }\n",
       "\n",
       "    .dataframe thead th {\n",
       "        text-align: right;\n",
       "    }\n",
       "</style>\n",
       "<table border=\"1\" class=\"dataframe\">\n",
       "  <thead>\n",
       "    <tr style=\"text-align: right;\">\n",
       "      <th></th>\n",
       "      <th>combi</th>\n",
       "      <th>sd</th>\n",
       "      <th>avg</th>\n",
       "    </tr>\n",
       "  </thead>\n",
       "  <tbody>\n",
       "    <tr>\n",
       "      <th>21</th>\n",
       "      <td>{'criterion': 'entropy', 'max_depth': None, 'm...</td>\n",
       "      <td>0.007225</td>\n",
       "      <td>0.943504</td>\n",
       "    </tr>\n",
       "    <tr>\n",
       "      <th>20</th>\n",
       "      <td>{'criterion': 'entropy', 'max_depth': None, 'm...</td>\n",
       "      <td>0.007366</td>\n",
       "      <td>0.942765</td>\n",
       "    </tr>\n",
       "    <tr>\n",
       "      <th>22</th>\n",
       "      <td>{'criterion': 'entropy', 'max_depth': None, 'm...</td>\n",
       "      <td>0.006124</td>\n",
       "      <td>0.941041</td>\n",
       "    </tr>\n",
       "    <tr>\n",
       "      <th>23</th>\n",
       "      <td>{'criterion': 'entropy', 'max_depth': None, 'm...</td>\n",
       "      <td>0.006092</td>\n",
       "      <td>0.940425</td>\n",
       "    </tr>\n",
       "    <tr>\n",
       "      <th>9</th>\n",
       "      <td>{'criterion': 'gini', 'max_depth': None, 'min_...</td>\n",
       "      <td>0.003809</td>\n",
       "      <td>0.940055</td>\n",
       "    </tr>\n",
       "    <tr>\n",
       "      <th>8</th>\n",
       "      <td>{'criterion': 'gini', 'max_depth': None, 'min_...</td>\n",
       "      <td>0.004402</td>\n",
       "      <td>0.940054</td>\n",
       "    </tr>\n",
       "    <tr>\n",
       "      <th>10</th>\n",
       "      <td>{'criterion': 'gini', 'max_depth': None, 'min_...</td>\n",
       "      <td>0.006381</td>\n",
       "      <td>0.933654</td>\n",
       "    </tr>\n",
       "    <tr>\n",
       "      <th>11</th>\n",
       "      <td>{'criterion': 'gini', 'max_depth': None, 'min_...</td>\n",
       "      <td>0.005479</td>\n",
       "      <td>0.933530</td>\n",
       "    </tr>\n",
       "    <tr>\n",
       "      <th>15</th>\n",
       "      <td>{'criterion': 'entropy', 'max_depth': 3, 'min_...</td>\n",
       "      <td>0.005966</td>\n",
       "      <td>0.929592</td>\n",
       "    </tr>\n",
       "    <tr>\n",
       "      <th>14</th>\n",
       "      <td>{'criterion': 'entropy', 'max_depth': 3, 'min_...</td>\n",
       "      <td>0.005966</td>\n",
       "      <td>0.929592</td>\n",
       "    </tr>\n",
       "    <tr>\n",
       "      <th>13</th>\n",
       "      <td>{'criterion': 'entropy', 'max_depth': 3, 'min_...</td>\n",
       "      <td>0.005966</td>\n",
       "      <td>0.929592</td>\n",
       "    </tr>\n",
       "    <tr>\n",
       "      <th>12</th>\n",
       "      <td>{'criterion': 'entropy', 'max_depth': 3, 'min_...</td>\n",
       "      <td>0.005966</td>\n",
       "      <td>0.929592</td>\n",
       "    </tr>\n",
       "    <tr>\n",
       "      <th>1</th>\n",
       "      <td>{'criterion': 'gini', 'max_depth': 3, 'min_sam...</td>\n",
       "      <td>0.007061</td>\n",
       "      <td>0.925284</td>\n",
       "    </tr>\n",
       "    <tr>\n",
       "      <th>3</th>\n",
       "      <td>{'criterion': 'gini', 'max_depth': 3, 'min_sam...</td>\n",
       "      <td>0.007061</td>\n",
       "      <td>0.925284</td>\n",
       "    </tr>\n",
       "    <tr>\n",
       "      <th>2</th>\n",
       "      <td>{'criterion': 'gini', 'max_depth': 3, 'min_sam...</td>\n",
       "      <td>0.007061</td>\n",
       "      <td>0.925284</td>\n",
       "    </tr>\n",
       "    <tr>\n",
       "      <th>0</th>\n",
       "      <td>{'criterion': 'gini', 'max_depth': 3, 'min_sam...</td>\n",
       "      <td>0.007061</td>\n",
       "      <td>0.925284</td>\n",
       "    </tr>\n",
       "    <tr>\n",
       "      <th>16</th>\n",
       "      <td>{'criterion': 'entropy', 'max_depth': 5, 'min_...</td>\n",
       "      <td>0.010003</td>\n",
       "      <td>0.917655</td>\n",
       "    </tr>\n",
       "    <tr>\n",
       "      <th>17</th>\n",
       "      <td>{'criterion': 'entropy', 'max_depth': 5, 'min_...</td>\n",
       "      <td>0.010287</td>\n",
       "      <td>0.917655</td>\n",
       "    </tr>\n",
       "    <tr>\n",
       "      <th>18</th>\n",
       "      <td>{'criterion': 'entropy', 'max_depth': 5, 'min_...</td>\n",
       "      <td>0.010282</td>\n",
       "      <td>0.917163</td>\n",
       "    </tr>\n",
       "    <tr>\n",
       "      <th>19</th>\n",
       "      <td>{'criterion': 'entropy', 'max_depth': 5, 'min_...</td>\n",
       "      <td>0.010061</td>\n",
       "      <td>0.917040</td>\n",
       "    </tr>\n",
       "    <tr>\n",
       "      <th>4</th>\n",
       "      <td>{'criterion': 'gini', 'max_depth': 5, 'min_sam...</td>\n",
       "      <td>0.007927</td>\n",
       "      <td>0.912853</td>\n",
       "    </tr>\n",
       "    <tr>\n",
       "      <th>5</th>\n",
       "      <td>{'criterion': 'gini', 'max_depth': 5, 'min_sam...</td>\n",
       "      <td>0.008410</td>\n",
       "      <td>0.912607</td>\n",
       "    </tr>\n",
       "    <tr>\n",
       "      <th>7</th>\n",
       "      <td>{'criterion': 'gini', 'max_depth': 5, 'min_sam...</td>\n",
       "      <td>0.009041</td>\n",
       "      <td>0.911992</td>\n",
       "    </tr>\n",
       "    <tr>\n",
       "      <th>6</th>\n",
       "      <td>{'criterion': 'gini', 'max_depth': 5, 'min_sam...</td>\n",
       "      <td>0.008702</td>\n",
       "      <td>0.911992</td>\n",
       "    </tr>\n",
       "  </tbody>\n",
       "</table>\n",
       "</div>"
      ],
      "text/plain": [
       "                                                combi        sd       avg\n",
       "21  {'criterion': 'entropy', 'max_depth': None, 'm...  0.007225  0.943504\n",
       "20  {'criterion': 'entropy', 'max_depth': None, 'm...  0.007366  0.942765\n",
       "22  {'criterion': 'entropy', 'max_depth': None, 'm...  0.006124  0.941041\n",
       "23  {'criterion': 'entropy', 'max_depth': None, 'm...  0.006092  0.940425\n",
       "9   {'criterion': 'gini', 'max_depth': None, 'min_...  0.003809  0.940055\n",
       "8   {'criterion': 'gini', 'max_depth': None, 'min_...  0.004402  0.940054\n",
       "10  {'criterion': 'gini', 'max_depth': None, 'min_...  0.006381  0.933654\n",
       "11  {'criterion': 'gini', 'max_depth': None, 'min_...  0.005479  0.933530\n",
       "15  {'criterion': 'entropy', 'max_depth': 3, 'min_...  0.005966  0.929592\n",
       "14  {'criterion': 'entropy', 'max_depth': 3, 'min_...  0.005966  0.929592\n",
       "13  {'criterion': 'entropy', 'max_depth': 3, 'min_...  0.005966  0.929592\n",
       "12  {'criterion': 'entropy', 'max_depth': 3, 'min_...  0.005966  0.929592\n",
       "1   {'criterion': 'gini', 'max_depth': 3, 'min_sam...  0.007061  0.925284\n",
       "3   {'criterion': 'gini', 'max_depth': 3, 'min_sam...  0.007061  0.925284\n",
       "2   {'criterion': 'gini', 'max_depth': 3, 'min_sam...  0.007061  0.925284\n",
       "0   {'criterion': 'gini', 'max_depth': 3, 'min_sam...  0.007061  0.925284\n",
       "16  {'criterion': 'entropy', 'max_depth': 5, 'min_...  0.010003  0.917655\n",
       "17  {'criterion': 'entropy', 'max_depth': 5, 'min_...  0.010287  0.917655\n",
       "18  {'criterion': 'entropy', 'max_depth': 5, 'min_...  0.010282  0.917163\n",
       "19  {'criterion': 'entropy', 'max_depth': 5, 'min_...  0.010061  0.917040\n",
       "4   {'criterion': 'gini', 'max_depth': 5, 'min_sam...  0.007927  0.912853\n",
       "5   {'criterion': 'gini', 'max_depth': 5, 'min_sam...  0.008410  0.912607\n",
       "7   {'criterion': 'gini', 'max_depth': 5, 'min_sam...  0.009041  0.911992\n",
       "6   {'criterion': 'gini', 'max_depth': 5, 'min_sam...  0.008702  0.911992"
      ]
     },
     "execution_count": 23,
     "metadata": {},
     "output_type": "execute_result"
    }
   ],
   "source": [
    "df.sort_values(by=\"avg\",ascending=False)"
   ]
  },
  {
   "cell_type": "code",
   "execution_count": 24,
   "metadata": {},
   "outputs": [
    {
     "data": {
      "text/plain": [
       "{'criterion': 'entropy',\n",
       " 'max_depth': None,\n",
       " 'min_samples_leaf': 5,\n",
       " 'min_samples_split': 6}"
      ]
     },
     "execution_count": 24,
     "metadata": {},
     "output_type": "execute_result"
    }
   ],
   "source": [
    "df.loc[21,\"combi\"]"
   ]
  },
  {
   "cell_type": "code",
   "execution_count": 26,
   "metadata": {},
   "outputs": [],
   "source": [
    "dtree=tree.DecisionTreeClassifier(criterion=\"entropy\",max_depth=None,\n",
    "                                  class_weight=\"balanced\",min_samples_leaf=5)"
   ]
  },
  {
   "cell_type": "code",
   "execution_count": 27,
   "metadata": {},
   "outputs": [
    {
     "data": {
      "text/plain": [
       "DecisionTreeClassifier(ccp_alpha=0.0, class_weight='balanced',\n",
       "                       criterion='entropy', max_depth=None, max_features=None,\n",
       "                       max_leaf_nodes=None, min_impurity_decrease=0.0,\n",
       "                       min_impurity_split=None, min_samples_leaf=5,\n",
       "                       min_samples_split=2, min_weight_fraction_leaf=0.0,\n",
       "                       presort='deprecated', random_state=None,\n",
       "                       splitter='best')"
      ]
     },
     "execution_count": 27,
     "metadata": {},
     "output_type": "execute_result"
    }
   ],
   "source": [
    "dtree.fit(x_train,y_train)"
   ]
  },
  {
   "cell_type": "code",
   "execution_count": 28,
   "metadata": {},
   "outputs": [],
   "source": [
    "predicted=dtree.predict(x_test)\n",
    "\n",
    "df_test=pd.DataFrame(list(zip(y_test,predicted)),columns=[\"real\",\"predicted\"])\n",
    "\n",
    "k=pd.crosstab(df_test['real'],df_test[\"predicted\"])"
   ]
  },
  {
   "cell_type": "code",
   "execution_count": 29,
   "metadata": {},
   "outputs": [
    {
     "name": "stdout",
     "output_type": "stream",
     "text": [
      "Accuracy is : 0.930576070901034\n",
      "Sensitivity is : 0.8258928571428571\n",
      "Specificity is : 0.9435528500276702\n"
     ]
    }
   ],
   "source": [
    "TP=k.iloc[1,1]\n",
    "TN=k.iloc[0,0]\n",
    "FP=k.iloc[0,1]\n",
    "FN=k.iloc[1,0]\n",
    "P=TP+FN\n",
    "N=TN+FP\n",
    "\n",
    "\n",
    "print('Accuracy is :',(TP+TN)/(P+N))\n",
    "print('Sensitivity is :',TP/P)\n",
    "print('Specificity is :',TN/N)"
   ]
  },
  {
   "cell_type": "code",
   "execution_count": 45,
   "metadata": {},
   "outputs": [],
   "source": [
    "prob_score=pd.Series(list(zip(*dtree.predict_proba(x_train)))[1])"
   ]
  },
  {
   "cell_type": "code",
   "execution_count": 46,
   "metadata": {},
   "outputs": [
    {
     "data": {
      "text/plain": [
       "array([0.        , 1.        , 0.96719814, 0.89389463, 0.97118021,\n",
       "       0.84886032, 0.67805789, 0.808146  , 0.58404375, 0.9768105 ,\n",
       "       0.86335896, 0.9266695 , 0.51292555, 0.91825251, 0.70648896,\n",
       "       0.62754926, 0.96193924, 0.77115854, 0.95467214, 0.73740861,\n",
       "       0.83484059, 0.5461793 , 0.94397504])"
      ]
     },
     "execution_count": 46,
     "metadata": {},
     "output_type": "execute_result"
    }
   ],
   "source": [
    "prob_score.unique()"
   ]
  },
  {
   "cell_type": "code",
   "execution_count": 102,
   "metadata": {},
   "outputs": [],
   "source": [
    "cutoffs=np.linspace(0.010,0.99,100)  # these are cutoffs that we will try\n",
    "#beta=2\n",
    "sn_sp_cut=[]\n",
    "for cutoff in cutoffs:\n",
    "    predicted=pd.Series([0]*len(y_train))\n",
    "    predicted[prob_score>cutoff]=1\n",
    "    df=pd.DataFrame(list(zip(y_train,predicted)),columns=[\"real\",\"predicted\"])\n",
    "\n",
    "    TP=len(df[(df[\"real\"]==1) &(df[\"predicted\"]==1) ])\n",
    "    FP=len(df[(df[\"real\"]==0) &(df[\"predicted\"]==1) ])\n",
    "    FN=len(df[(df[\"real\"]==1) &(df[\"predicted\"]==0) ])\n",
    "    TN=len(df[(df[\"real\"]==0) &(df[\"predicted\"]==0) ])\n",
    "\n",
    "        \n",
    "    P=TP+FN\n",
    "        \n",
    "    sen=(TP/(TP+FN))\n",
    "    sp=(TN/(TN+FP))\n",
    "    sn_sp=sen+sp\n",
    "    Precision=TP/(TP+FP)\n",
    "    Recall=TP/P\n",
    "    #FB=(1+beta**2)*Precision*Recall/((beta**2)*Precision+Recall)\n",
    "    sn_sp_cut.append(sn_sp)\n",
    "\n",
    "cutoff_data=pd.DataFrame(list(zip(cutoffs,sn_sp_cut)),columns=[\"cutoff\",\"sn_sp\"])\n",
    "\n",
    "\n"
   ]
  },
  {
   "cell_type": "code",
   "execution_count": 103,
   "metadata": {},
   "outputs": [
    {
     "data": {
      "text/html": [
       "<div>\n",
       "<style scoped>\n",
       "    .dataframe tbody tr th:only-of-type {\n",
       "        vertical-align: middle;\n",
       "    }\n",
       "\n",
       "    .dataframe tbody tr th {\n",
       "        vertical-align: top;\n",
       "    }\n",
       "\n",
       "    .dataframe thead th {\n",
       "        text-align: right;\n",
       "    }\n",
       "</style>\n",
       "<table border=\"1\" class=\"dataframe\">\n",
       "  <thead>\n",
       "    <tr style=\"text-align: right;\">\n",
       "      <th></th>\n",
       "      <th>cutoff</th>\n",
       "      <th>sn_sp</th>\n",
       "    </tr>\n",
       "  </thead>\n",
       "  <tbody>\n",
       "    <tr>\n",
       "      <th>0</th>\n",
       "      <td>0.010000</td>\n",
       "      <td>1.968328</td>\n",
       "    </tr>\n",
       "    <tr>\n",
       "      <th>1</th>\n",
       "      <td>0.019899</td>\n",
       "      <td>1.968328</td>\n",
       "    </tr>\n",
       "    <tr>\n",
       "      <th>2</th>\n",
       "      <td>0.029798</td>\n",
       "      <td>1.968328</td>\n",
       "    </tr>\n",
       "    <tr>\n",
       "      <th>3</th>\n",
       "      <td>0.039697</td>\n",
       "      <td>1.968328</td>\n",
       "    </tr>\n",
       "    <tr>\n",
       "      <th>4</th>\n",
       "      <td>0.049596</td>\n",
       "      <td>1.968328</td>\n",
       "    </tr>\n",
       "    <tr>\n",
       "      <th>...</th>\n",
       "      <td>...</td>\n",
       "      <td>...</td>\n",
       "    </tr>\n",
       "    <tr>\n",
       "      <th>95</th>\n",
       "      <td>0.950404</td>\n",
       "      <td>1.867316</td>\n",
       "    </tr>\n",
       "    <tr>\n",
       "      <th>96</th>\n",
       "      <td>0.960303</td>\n",
       "      <td>1.861790</td>\n",
       "    </tr>\n",
       "    <tr>\n",
       "      <th>97</th>\n",
       "      <td>0.970202</td>\n",
       "      <td>1.832730</td>\n",
       "    </tr>\n",
       "    <tr>\n",
       "      <th>98</th>\n",
       "      <td>0.980101</td>\n",
       "      <td>1.785383</td>\n",
       "    </tr>\n",
       "    <tr>\n",
       "      <th>99</th>\n",
       "      <td>0.990000</td>\n",
       "      <td>1.785383</td>\n",
       "    </tr>\n",
       "  </tbody>\n",
       "</table>\n",
       "<p>100 rows × 2 columns</p>\n",
       "</div>"
      ],
      "text/plain": [
       "      cutoff     sn_sp\n",
       "0   0.010000  1.968328\n",
       "1   0.019899  1.968328\n",
       "2   0.029798  1.968328\n",
       "3   0.039697  1.968328\n",
       "4   0.049596  1.968328\n",
       "..       ...       ...\n",
       "95  0.950404  1.867316\n",
       "96  0.960303  1.861790\n",
       "97  0.970202  1.832730\n",
       "98  0.980101  1.785383\n",
       "99  0.990000  1.785383\n",
       "\n",
       "[100 rows x 2 columns]"
      ]
     },
     "execution_count": 103,
     "metadata": {},
     "output_type": "execute_result"
    }
   ],
   "source": [
    "cutoff_data"
   ]
  },
  {
   "cell_type": "code",
   "execution_count": 104,
   "metadata": {},
   "outputs": [],
   "source": [
    "sn_sp_cutoff=cutoff_data[cutoff_data[\"sn_sp\"]==cutoff_data[\"sn_sp\"].max()][\"cutoff\"]"
   ]
  },
  {
   "cell_type": "code",
   "execution_count": 105,
   "metadata": {},
   "outputs": [],
   "source": [
    "sn_sp_cutoff=sn_sp_cutoff[1]"
   ]
  },
  {
   "cell_type": "code",
   "execution_count": 106,
   "metadata": {},
   "outputs": [
    {
     "name": "stdout",
     "output_type": "stream",
     "text": [
      "For the cutoff : 0.0198989898989899\n",
      "Accuracy is : 0.930576070901034\n",
      "Sensitivity is : 0.8258928571428571\n",
      "Specificity is : 0.9435528500276702\n",
      "precision is : 0.6445993031358885\n",
      "recall is : 0.9776376146788991\n"
     ]
    }
   ],
   "source": [
    "\n",
    "prob_score_test=pd.Series(list(zip(*dtree.predict_proba(x_test)))[1])\n",
    "\n",
    "predicted_test=pd.Series([0]*len(y_test))\n",
    "predicted_test[prob_score_test>float(sn_sp_cutoff)]=1\n",
    "\n",
    "df_test=pd.DataFrame(list(zip(y_test,predicted_test)),columns=[\"real\",\"predicted\"])\n",
    "\n",
    "k=pd.crosstab(df_test['real'],df_test[\"predicted\"])\n",
    "#     print('confusion matrix :\\n \\n ',k)\n",
    "TN=k.iloc[0,0]\n",
    "TP=k.iloc[1,1]\n",
    "FP=k.iloc[0,1]\n",
    "FN=k.iloc[1,0]\n",
    "P=TP+FN\n",
    "N=TN+FP\n",
    "print('For the cutoff :',sn_sp_cutoff)\n",
    "#print('For beta :',beta)\n",
    "print('Accuracy is :',(TP+TN)/(P+N))\n",
    "print('Sensitivity is :',(TP/P))\n",
    "print('Specificity is :',(TN/N))\n",
    "print('precision is :',(TP/(TP+FP)))\n",
    "print('recall is :',(TN/(TN+FN)))\n",
    "\n",
    "    "
   ]
  },
  {
   "cell_type": "code",
   "execution_count": 107,
   "metadata": {},
   "outputs": [
    {
     "data": {
      "text/plain": [
       "0.8847228535852637"
      ]
     },
     "execution_count": 107,
     "metadata": {},
     "output_type": "execute_result"
    }
   ],
   "source": [
    "from sklearn.metrics import roc_auc_score\n",
    "roc_auc_score(y_test,predicted_test)"
   ]
  },
  {
   "cell_type": "code",
   "execution_count": null,
   "metadata": {},
   "outputs": [],
   "source": []
  }
 ],
 "metadata": {
  "kernelspec": {
   "display_name": "Python 3",
   "language": "python",
   "name": "python3"
  },
  "language_info": {
   "codemirror_mode": {
    "name": "ipython",
    "version": 3
   },
   "file_extension": ".py",
   "mimetype": "text/x-python",
   "name": "python",
   "nbconvert_exporter": "python",
   "pygments_lexer": "ipython3",
   "version": "3.7.6"
  }
 },
 "nbformat": 4,
 "nbformat_minor": 4
}
